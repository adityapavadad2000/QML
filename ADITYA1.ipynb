{
 "cells": [
  {
   "cell_type": "code",
   "execution_count": 4,
   "id": "fdf584e4",
   "metadata": {},
   "outputs": [],
   "source": [
    "import gurobipy"
   ]
  },
  {
   "cell_type": "code",
   "execution_count": 12,
   "id": "552439eb",
   "metadata": {},
   "outputs": [],
   "source": [
    "import matplotlib.pyplot as plt"
   ]
  },
  {
   "cell_type": "code",
   "execution_count": 1,
   "id": "c31aab16",
   "metadata": {},
   "outputs": [
    {
     "name": "stdout",
     "output_type": "stream",
     "text": [
      "Set parameter Username\n",
      "Academic license - for non-commercial use only - expires 2024-09-14\n",
      "Set parameter Heuristics to value 0.5\n",
      "Warning: Q constraint 0 doesn't have a name\n",
      "Gurobi Optimizer version 10.0.3 build v10.0.3rc0 (win64)\n",
      "\n",
      "CPU model: 12th Gen Intel(R) Core(TM) i7-1255U, instruction set [SSE2|AVX|AVX2]\n",
      "Thread count: 10 physical cores, 12 logical processors, using up to 12 threads\n",
      "\n",
      "Optimize a model with 1544 rows, 1653 columns and 8199 nonzeros\n",
      "Model fingerprint: 0x568e0fc1\n",
      "Model has 114 quadratic constraints\n",
      "Variable types: 132 continuous, 1521 integer (1518 binary)\n",
      "Coefficient statistics:\n",
      "  Matrix range     [1e+00, 1e+04]\n",
      "  QMatrix range    [1e+00, 1e+00]\n",
      "  QLMatrix range   [1e+00, 2e+02]\n",
      "  Objective range  [2e+00, 8e+01]\n",
      "  Bounds range     [1e+00, 3e+00]\n",
      "  RHS range        [1e+00, 1e+04]\n",
      "Presolve removed 306 rows and 225 columns\n",
      "Presolve time: 0.12s\n",
      "Presolved: 4448 rows, 5556 columns, 24423 nonzeros\n",
      "Presolved model has 2064 SOS constraint(s)\n",
      "Variable types: 3048 continuous, 2508 integer (2328 binary)\n",
      "Found heuristic solution: objective 412.4675995\n",
      "\n",
      "Root relaxation: objective 7.301767e+01, 1256 iterations, 0.02 seconds (0.01 work units)\n",
      "\n",
      "    Nodes    |    Current Node    |     Objective Bounds      |     Work\n",
      " Expl Unexpl |  Obj  Depth IntInf | Incumbent    BestBd   Gap | It/Node Time\n",
      "\n",
      "     0     0   73.01767    0  185  412.46760   73.01767  82.3%     -    0s\n",
      "     0     0   80.39267    0  245  412.46760   80.39267  80.5%     -    0s\n",
      "     0     0   86.96462    0  217  412.46760   86.96462  78.9%     -    1s\n",
      "     0     0  130.50260    0  168  412.46760  130.50260  68.4%     -    1s\n",
      "     0     0  130.50260    0  187  412.46760  130.50260  68.4%     -    1s\n",
      "     0     0  156.03276    0  252  412.46760  156.03276  62.2%     -    1s\n",
      "     0     0  159.76559    0  177  412.46760  159.76559  61.3%     -    1s\n",
      "     0     0  159.76559    0  176  412.46760  159.76559  61.3%     -    1s\n",
      "     0     0  161.65877    0  215  412.46760  161.65877  60.8%     -    1s\n",
      "     0     0  161.65877    0  195  412.46760  161.65877  60.8%     -    1s\n",
      "     0     0  161.65877    0  178  412.46760  161.65877  60.8%     -    1s\n",
      "     0     0  161.65877    0  162  412.46760  161.65877  60.8%     -    1s\n",
      "     0     0  163.85450    0  157  412.46760  163.85450  60.3%     -    1s\n",
      "H    0     0                     355.0653212  163.85450  53.9%     -    2s\n",
      "     0     0  163.85450    0  163  355.06532  163.85450  53.9%     -    2s\n",
      "H    0     0                     292.1212033  163.85450  43.9%     -    2s\n",
      "     0     0  172.91802    0  262  292.12120  172.91802  40.8%     -    2s\n",
      "     0     0  172.92237    0  291  292.12120  172.92237  40.8%     -    2s\n",
      "     0     0  175.56648    0  227  292.12120  175.56648  39.9%     -    2s\n",
      "     0     0  175.56648    0  134  292.12120  175.56648  39.9%     -    2s\n",
      "     0     2  175.74558    0  117  292.12120  175.74558  39.8%     -    2s\n",
      "H   71    77                     291.7361433  185.71107  36.3%  81.5    3s\n",
      "H   72    77                     289.3637658  185.71107  35.8%  81.0    3s\n",
      "H  121   116                     285.3834049  185.71107  34.9%  64.6    3s\n",
      "H  185   147                     254.7044136  185.71107  27.1%  59.6    3s\n",
      "H  218   130                     200.3982835  187.44408  6.46%  57.7    4s\n",
      "\n",
      "Cutting planes:\n",
      "  Gomory: 5\n",
      "  Cover: 11\n",
      "  Implied bound: 573\n",
      "  Clique: 13\n",
      "  MIR: 93\n",
      "  GUB cover: 3\n",
      "  Zero half: 37\n",
      "  RLT: 2\n",
      "  Relax-and-lift: 6\n",
      "\n",
      "Explored 392 nodes (21129 simplex iterations) in 4.90 seconds (2.72 work units)\n",
      "Thread count was 12 (of 12 available processors)\n",
      "\n",
      "Solution count 8: 200.398 254.704 285.383 ... 412.468\n",
      "\n",
      "Optimal solution found (tolerance 1.00e-04)\n",
      "Best objective 2.003982835272e+02, best bound 2.003982835272e+02, gap 0.0000%\n"
     ]
    }
   ],
   "source": [
    "# -*- coding: utf-8 -*-\n",
    "\"\"\"\n",
    "Created on Sat Dec  9 00:01:55 2023\n",
    "\n",
    "@author: Aditya Pavadad\n",
    "\"\"\"\n",
    "\n",
    "\"\"\"\n",
    "Assignment 2\n",
    "Group 28\n",
    "Part d - implementation of part c\n",
    "\"\"\"\n",
    "\n",
    "# ---- Import libraries ----\n",
    "import matplotlib.pyplot as plt\n",
    "from gurobipy import *\n",
    "import numpy as np\n",
    "import csv\n",
    "\n",
    "\n",
    "# ---- Parameters ----\n",
    "\n",
    "\"\"\"Importing the dataset and extracting the appropriate data\"\"\"\n",
    "\n",
    "filename = \"cccc.txt\"\n",
    "\n",
    "\n",
    "with open(filename) as f:\n",
    "    data = csv.reader(f, delimiter=\"\\t\")\n",
    "    dataset = list(data)\n",
    "\n",
    "for i in range(0,len(dataset)):\n",
    "    for j in range(0,7):\n",
    "        a = int(dataset[i][j])\n",
    "        dataset[i][j] = a\n",
    "\n",
    "node_id = []  # Stores the id's of the nodes\n",
    "x_coord = []  # Stores the x coordinates of all the nodes\n",
    "y_coord = []  # Stores the y coordinates of all the nodes\n",
    "a = []  # Stores the demand for each node\n",
    "RT = []  # Stores the ready time for each node (earliest time for delivery)\n",
    "DT = []  # Stores the due time for each node (latest time for delivery)\n",
    "ST = (\n",
    "    []\n",
    ")  # Stores the service time for each node (time needed for a delivery at each location )\n",
    "\n",
    "\n",
    "for j in range(0, len(dataset)):\n",
    "    node_id.append(dataset[j][0])\n",
    "    x_coord.append(dataset[j][1])\n",
    "    y_coord.append(dataset[j][2])\n",
    "    a.append(dataset[j][3])\n",
    "    RT.append(dataset[j][4])\n",
    "    DT.append(dataset[j][5])\n",
    "    ST.append(dataset[j][6])\n",
    "\n",
    "\"\"\"Parameters\"\"\"\n",
    "\n",
    "# Capacities for each vehicle, with the commented out sections being for each case\n",
    "\n",
    "b = [130, 130,130]  # Case 1\n",
    "# b = [60,60]  #Case 2\n",
    "# b = [20,20,20,20,20,20] #Case 3\n",
    "\n",
    "# Total number of vehicles\n",
    "K = len(b)\n",
    "\n",
    "\"\"\"Calculating the Euclidean distance between all nodes \"\"\"\n",
    "\n",
    "D = [[int for i in range(len(node_id))] for j in range(len(node_id))]\n",
    "\n",
    "\n",
    "for i in range(len(node_id)):\n",
    "    for j in range(len(node_id)):\n",
    "        d = math.sqrt((x_coord[i] - x_coord[j]) ** 2 + (y_coord[i] - y_coord[j]) ** 2)\n",
    "        D[i][j] = d\n",
    "\n",
    "# Note for this programme, the assumption is made that 1 distance unit corresponds to 1 time unit\n",
    "# This also allows us to use distance interchangably within constraints with time\n",
    "\n",
    "\n",
    "# ---- Initialising Model ----\n",
    "\n",
    "model = Model(\"Part c/d\")\n",
    "\n",
    "\n",
    "# ---- Sets and Indices ----\n",
    "\n",
    "I = range(len(node_id))  # locations\n",
    "J = range(len(node_id))  # locations\n",
    "V = range(0, K)  # vehicles\n",
    "\n",
    "# ---- Decision Variables ----\n",
    "\n",
    "\"\"\"Initialising the dimensions for all the decision variables\"\"\"\n",
    "\n",
    "x = [\n",
    "    [[int for v in V] for j in J] for i in I\n",
    "]  # Binary variable to indicate if a route between 2 nodes for a given vehicle is a solution (1 if route is taken, 0 otherwise)\n",
    "z = [\n",
    "    [int for v in V] for i in I\n",
    "]  # Binary variable indicating if vehicle v visits node i\n",
    "t = [\n",
    "    [int for v in V] for i in I\n",
    "]  # Total time taken for each vehicle up to a particular node\n",
    "L = [[int for v in V] for i in I]  # Total load of each vehicle after each node\n",
    "Y = [\n",
    "    [int for v in V] for i in I \n",
    "] \n",
    "# Total number of depots\n",
    "N = [int for i in range(3)]\n",
    "\"\"\"Defining the type of decision variables\"\"\"\n",
    "for i in I:\n",
    "    for j in J:\n",
    "        for v in V:\n",
    "            x[i][j][v] = model.addVar(vtype=GRB.BINARY)\n",
    "\n",
    "for i in I:\n",
    "    for v in V:\n",
    "        z[i][v] = model.addVar(vtype=GRB.BINARY)\n",
    "        t[i][v] = model.addVar(lb=0, vtype=GRB.CONTINUOUS)\n",
    "        L[i][v] = model.addVar(lb=0, vtype=GRB.CONTINUOUS)\n",
    "\n",
    "for i in range(3):\n",
    "    N[i] = model.addVar(lb = 0 , ub = 3, vtype = GRB.INTEGER)\n",
    "    \n",
    "    \n",
    "# ---- Integerate the variables into the model ----\n",
    "model.update()\n",
    "\n",
    "\n",
    "# ---- Objective Function ----\n",
    "model.setObjective(\n",
    "    quicksum(x[i][j][v] * (D[i][j]) for i in I for j in J for v in V)\n",
    ")  # Only a function of distance as that is the parameter to minimize\n",
    "\n",
    "model.modelSense = GRB.MINIMIZE\n",
    "model.update()\n",
    "\n",
    "# ---- Constraints ----\n",
    "\"\"\"Initialising all constraints\"\"\"\n",
    "\n",
    "con1 = {}\n",
    "con2 = {}\n",
    "con3 = {}\n",
    "con4 = {}\n",
    "con5 = {}\n",
    "con6 = {}\n",
    "con7 = {}\n",
    "con8 = {}\n",
    "con9 = {}\n",
    "con10 = {}\n",
    "con11 = {}\n",
    "\n",
    "M = 10000\n",
    "\n",
    "# Ensures that every node is visited by only one vehicle\n",
    "for i in range(3, len(node_id)):\n",
    "    con1 = model.addConstr(quicksum(z[i][v] for v in V) == 1)\n",
    "\n",
    "# # Ensures that multiple vehicles can start from the Depot\n",
    "for i in range(0,3):\n",
    "    con2 = model.addConstr(quicksum(z[i][v] for v in V) == N[i] )\n",
    "    \n",
    "con20 = model.addConstr(quicksum(N[i] for i in range(3)) == K)    \n",
    "\n",
    "# Ensures that the sum of demand of a tour of each vehicle needs to be less than overall capacity of the vehicle\n",
    "for v in V:\n",
    "    con3 = model.addConstr(quicksum(a[i] * z[i][v] for i in I) <= b[v])\n",
    "\n",
    "# Ensures that each nodes is visited by particular vehicle v once\n",
    "for v in V:\n",
    "    for i in I:\n",
    "        con4 = model.addConstr(quicksum(x[i][j][v] for j in J) == z[i][v])\n",
    "\n",
    "# Ensures that each nodes is left by particular vehicle v once\n",
    "for v in V:\n",
    "    for j in J:\n",
    "        con5 = model.addConstr(quicksum(x[i][j][v] for i in I) == z[j][v])\n",
    "\n",
    "# Defining the total time taken up to a certain node for a certain vehicle\n",
    "for v in V:\n",
    "    for j in range(3, len(node_id)):\n",
    "        con6 = model.addConstr(\n",
    "            t[j][v] >= quicksum((ST[i] + D[i][j] + t[i][v]) * x[i][j][v] for i in I)\n",
    "        )\n",
    "\n",
    "# Ensures that there is no subtouring\n",
    "for i in I:\n",
    "    for j in range(3, len(node_id)):\n",
    "        for v in V:\n",
    "            con7 = model.addConstr(t[i][v] + D[i][j] - M * (1 - x[i][j][v]) <= t[j][v])\n",
    "\n",
    "# Ensures that the arrival of the vehicle is within the ready-time and due-time\n",
    "for v in V:\n",
    "    for i in I:\n",
    "        con8 = model.addConstr(RT[i] * quicksum(x[i][j][v]  for j in J) <= t[i][v])\n",
    "        con9 = model.addConstr(t[i][v] <= DT[i])\n",
    "\n",
    "# Defines the changing load of each vehicle after each node\n",
    "for v in V:\n",
    "    for j in range(3, len(node_id)):\n",
    "        con10 = model.addConstr(\n",
    "            L[j][v] == quicksum((L[i][v] - a[j]) * x[i][j][v] for i in I)\n",
    "        )\n",
    "\n",
    "\n",
    "# ---- Gurobi Parameters ----\n",
    "\"\"\"Ensuring that the optimal solution is found and not a heuristic\"\"\"\n",
    "\n",
    "model.update()\n",
    "\n",
    "# model.setParam(\"OutputFlag\", False)  # silencing gurobi output or not\n",
    "# model.setParam ('Heuristic', 0.5)\n",
    "model.setParam('Heuristics', 0.5)\n",
    "\n",
    "# find the optimal solution\n",
    "model.write(\"output.lp\")  # print the model in .lp format file\n",
    "\n",
    "model.optimize()\n",
    "\n",
    "\n"
   ]
  },
  {
   "cell_type": "code",
   "execution_count": 92,
   "id": "116e1281",
   "metadata": {},
   "outputs": [
    {
     "name": "stdout",
     "output_type": "stream",
     "text": [
      "0\t40\t50\t0\t0\t1236\t0\n",
      "1\t22\t40\t0\t0\t1236\t0\n",
      "2\t25\t70\t0\t0\t1236\t0\n",
      "3\t40\t69\t20\t482\t842\t90\n",
      "4\t40\t66\t20\t18\t378\t90\n",
      "5\t38\t68\t20\t110\t470\t90\n",
      "6\t38\t70\t10\t390\t750\t90\n",
      "7\t25\t85\t20\t507\t867\t90\n",
      "8\t22\t75\t30\t30\t390\t90\n",
      "9\t22\t85\t10\t414\t774\t90\n",
      "10\t25\t50\t10\t15\t375\t90\n",
      "11\t25\t52\t40\t17\t377\t90\n",
      "12\t25\t55\t10\t482\t842\t90\n",
      "13\t23\t52\t10\t109\t469\t90\n",
      "14\t23\t55\t20\t390\t750\t90\n",
      "15\t26\t32\t10\t668\t1028\t90\n",
      "16\t25\t30\t10\t576\t936\t90\n",
      "17\t25\t35\t10\t761\t1121\t90\n",
      "18\t40\t5\t30\t231\t591\t90\n",
      "19\t40\t15\t40\t35\t395\t90\n",
      "20\t38\t5\t30\t323\t683\t90\n",
      "21\t38\t15\t10\t516\t876\t90\n"
     ]
    }
   ],
   "source": [
    "filename = \"cccc.txt\"\n",
    "\n",
    "with open(filename, \"r\") as file:\n",
    "    file_content = file.read()\n",
    "`\n",
    "\n",
    "\n",
    "data = []\n",
    "for line in file_content.split('\\n'):\n",
    "    data.append(line.split())\n",
    "\n",
    "dat = np.array(data, dtype = 'int')\n",
    "\n",
    "route\n",
    "\n",
    "x_coords = []\n",
    "y_coords = []\n",
    "for path in route:\n",
    "    x_coords.append(dat[path, 1])\n",
    "    y_coords.append(dat[path, 2])\n",
    "\n",
    "x_coords\n",
    "\n",
    "y_coords\n",
    "\n",
    "plt.plot(x_coords[0], y_coords[0], 'ro-', lw = 1);\n",
    "plt.plot(x_coords[0][0], y_coords[0][0], 'ko');\n",
    "\n",
    "\n",
    "plt.plot(x_coords[1], y_coords[1], 'go-', lw = 1);\n",
    "plt.plot(x_coords[2], y_coords[2], 'bo-', lw = 1);\n",
    "plt.plot(x_coords[1][0], y_coords[1][0], 'ko');\n",
    "plt.plot(x_coords[2][0], y_coords[2][0], 'ko');"
   ]
  },
  {
   "cell_type": "code",
   "execution_count": 120,
   "id": "b76adfd5",
   "metadata": {},
   "outputs": [],
   "source": [
    "data = []\n",
    "for line in file_content.split('\\n'):\n",
    "    data.append(line.split())"
   ]
  },
  {
   "cell_type": "code",
   "execution_count": 126,
   "id": "4d24e5cf",
   "metadata": {},
   "outputs": [],
   "source": [
    "dat = np.array(data, dtype = 'int')"
   ]
  },
  {
   "cell_type": "code",
   "execution_count": 94,
   "id": "2fe381df",
   "metadata": {},
   "outputs": [
    {
     "data": {
      "text/plain": [
       "[[2, 8, 5, 4, 3, 6, 9, 7, 2],\n",
       " [1, 10, 11, 13, 14, 12, 17, 1],\n",
       " [1, 19, 18, 20, 21, 16, 15, 1]]"
      ]
     },
     "execution_count": 94,
     "metadata": {},
     "output_type": "execute_result"
    }
   ],
   "source": [
    "route"
   ]
  },
  {
   "cell_type": "code",
   "execution_count": 140,
   "id": "838fbc25",
   "metadata": {},
   "outputs": [],
   "source": [
    "x_coords = []\n",
    "y_coords = []\n",
    "for path in route:\n",
    "    x_coords.append(dat[path, 1])\n",
    "    y_coords.append(dat[path, 2])"
   ]
  },
  {
   "cell_type": "code",
   "execution_count": 143,
   "id": "4fcb1192",
   "metadata": {},
   "outputs": [
    {
     "data": {
      "text/plain": [
       "[array([25, 22, 38, 40, 40, 38, 22, 25, 25]),\n",
       " array([22, 25, 25, 23, 23, 25, 25, 22]),\n",
       " array([22, 40, 40, 38, 38, 25, 26, 22])]"
      ]
     },
     "execution_count": 143,
     "metadata": {},
     "output_type": "execute_result"
    }
   ],
   "source": [
    "x_coords"
   ]
  },
  {
   "cell_type": "code",
   "execution_count": 144,
   "id": "264dfa35",
   "metadata": {},
   "outputs": [
    {
     "data": {
      "text/plain": [
       "[array([70, 75, 68, 66, 69, 70, 85, 85, 70]),\n",
       " array([40, 50, 52, 52, 55, 55, 35, 40]),\n",
       " array([40, 15,  5,  5, 15, 30, 32, 40])]"
      ]
     },
     "execution_count": 144,
     "metadata": {},
     "output_type": "execute_result"
    }
   ],
   "source": [
    "y_coords"
   ]
  },
  {
   "cell_type": "code",
   "execution_count": 150,
   "id": "c5a02dd3",
   "metadata": {},
   "outputs": [
    {
     "data": {
      "image/png": "[encoded data removed]",
      "text/plain": [
       "<Figure size 640x480 with 1 Axes>"
      ]
     },
     "metadata": {},
     "output_type": "display_data"
    }
   ],
   "source": [
    "plt.plot(x_coords[0], y_coords[0], 'ro-', lw = 1);\n",
    "plt.plot(x_coords[0][0], y_coords[0][0], 'ko');\n",
    "\n",
    "\n",
    "plt.plot(x_coords[1], y_coords[1], 'go-', lw = 1);\n",
    "plt.plot(x_coords[2], y_coords[2], 'bo-', lw = 1);\n",
    "plt.plot(x_coords[1][0], y_coords[1][0], 'ko');\n",
    "plt.plot(x_coords[2][0], y_coords[2][0], 'ko');"
   ]
  },
  {
   "cell_type": "code",
   "execution_count": null,
   "id": "636e423c",
   "metadata": {},
   "outputs": [],
   "source": []
  },
  {
   "cell_type": "code",
   "execution_count": null,
   "id": "020cec72",
   "metadata": {},
   "outputs": [],
   "source": []
  },
  {
   "cell_type": "code",
   "execution_count": null,
   "id": "b8c1ff48",
   "metadata": {},
   "outputs": [],
   "source": []
  },
  {
   "cell_type": "code",
   "execution_count": null,
   "id": "01788a4f",
   "metadata": {},
   "outputs": [],
   "source": []
  },
  {
   "cell_type": "code",
   "execution_count": null,
   "id": "870fb65e",
   "metadata": {},
   "outputs": [],
   "source": []
  },
  {
   "cell_type": "code",
   "execution_count": null,
   "id": "281acfd7",
   "metadata": {},
   "outputs": [],
   "source": []
  },
  {
   "cell_type": "code",
   "execution_count": 2,
   "id": "09309a8c",
   "metadata": {},
   "outputs": [
    {
     "ename": "SyntaxError",
     "evalue": "invalid syntax (1605893781.py, line 2)",
     "output_type": "error",
     "traceback": [
      "\u001b[1;36m  Cell \u001b[1;32mIn[2], line 2\u001b[1;36m\u001b[0m\n\u001b[1;33m    print('\\n' + 'Solution to part E/F: ')`a\u001b[0m\n\u001b[1;37m                                          ^\u001b[0m\n\u001b[1;31mSyntaxError\u001b[0m\u001b[1;31m:\u001b[0m invalid syntax\n"
     ]
    }
   ],
   "source": [
    "if model.status == GRB.Status.OPTIMAL:\n",
    "    print('\\n' + 'Solution to part E/F: ')`a\n",
    "\n",
    "    print('\\n' + 'Case Parameters: ')\n",
    "    print('\\n' + 'Number of vehicles: ' + str(K))\n",
    "    print('\\n' + 'Capacity of each vehicle: ' + str(b[0]))\n",
    "\n",
    "\n",
    "    #Total Distance Travelled\n",
    "    print ('\\n Total distance for all vehicles for all deliveries: %10.2f Units of Distance' % model.objVal)\n",
    "\n",
    "    #Sequence of locations visited by each vehicle\n",
    "    fig, ax = plt.subplots()\n",
    "    route = []\n",
    "    for v in V:\n",
    "        print ('\\n Tour of vehicle no. ' + str(v+1) + ' is: ')\n",
    "        k = 0\n",
    "        orderofvisit = [0]\n",
    "        lenz = 0\n",
    "        for i in I:\n",
    "            value = z[i][v].x\n",
    "            lenz = lenz + value\n",
    "        while k < lenz:\n",
    "            i = orderofvisit[k]\n",
    "            for j in I:\n",
    "                if x[i][j][v].x == 1:\n",
    "                    orderofvisit.append(j)\n",
    "                    k = k + 1\n",
    "        print('\\t' + str(orderofvisit))\n",
    "        route.append(orderofvisit)\n",
    "        #Time of visit at each location by each vehicle:\n",
    "        total_time_v = 0\n",
    "        print ('\\n Time of visit at each node by vehicle no. ' + str(v+1) + ' is: ')\n",
    "        for i in range(len(orderofvisit)-1):\n",
    "            time = '%0.2f' % t[int(orderofvisit[i])][v].x\n",
    "            print('\\t' + str(time))\n",
    "\n",
    "        #Load of each vehicle at each location:\n",
    "        print ('\\n Load of vehicle no. ' + str(v+1) + ' at each location in the route:')\n",
    "        for i in range(len(orderofvisit)-1):\n",
    "            load = '%0.2f' % L[int(orderofvisit[i])][v].x\n",
    "            print('\\t' + str(load))\n",
    "\n",
    "\n",
    "         #2D plot of the solution\n",
    "        x_pos_order = []\n",
    "        y_pos_order = []\n",
    "        col = (np.random.random(), np.random.random(), np.random.random())\n",
    "        #colors ['']\n",
    "        for i in range(len(orderofvisit)):\n",
    "\n",
    "            j = int(orderofvisit[i])\n",
    "            x_pos_order.append(x_coord[j])\n",
    "            y_pos_order.append(y_coord[j])\n",
    "\n",
    "\n",
    "            ax.plot(x_pos_order, y_pos_order, '.-', lw = 1, color = col)\n",
    "            plt.xlabel(\"X Coordinate Position\")\n",
    "            plt.ylabel(\"Y Coordinate Position\")\n",
    "            plt.title(\"2D Plot of the Solution\")\n",
    "\n",
    "\n",
    "            txt = j\n",
    "            ax.annotate(txt, (x_pos_order[i], y_pos_order[i]),fontsize = 10)\n",
    "            ax.annotate('',\n",
    "                                xytext=(x_pos_order[i-1], y_pos_order[i-1]),\n",
    "                                xy=(x_pos_order[i], y_pos_order[i]),\n",
    "                                size=5)\n",
    "\n",
    "#             txt = j\n",
    "#             ax.annotate(txt, (x_pos_order[i], y_pos_order[i]),fontsize = 15)\n",
    "#             ax.annotate('',\n",
    "#                                  xytext=(x_pos_order[i-1], y_pos_order[i-1]),\n",
    "#                                  xy=(x_pos_order[i], y_pos_order[i]),\n",
    "#                                  arrowprops=dict(arrowstyle=\"->\", color= col),\n",
    "#                                  size=10)\n",
    "else:\n",
    "    print ('\\nNo feasible solution found')"
   ]
  },
  {
   "cell_type": "code",
   "execution_count": 3,
   "id": "3e7303dd",
   "metadata": {},
   "outputs": [],
   "source": [
    "import pandas as pd\n",
    "\n",
    "def conv(y):\n",
    "    return y.x"
   ]
  },
  {
   "cell_type": "code",
   "execution_count": 4,
   "id": "64d33c7d",
   "metadata": {},
   "outputs": [
    {
     "name": "stderr",
     "output_type": "stream",
     "text": [
      "C:\\Users\\Aditya Pavadad\\AppData\\Local\\Temp\\ipykernel_30456\\756365652.py:1: FutureWarning: DataFrame.applymap has been deprecated. Use DataFrame.map instead.\n",
      "  df0 = pd.DataFrame(np.array(x)[:,:,0]).applymap(conv)\n",
      "C:\\Users\\Aditya Pavadad\\AppData\\Local\\Temp\\ipykernel_30456\\756365652.py:2: FutureWarning: DataFrame.applymap has been deprecated. Use DataFrame.map instead.\n",
      "  df1 = pd.DataFrame(np.array(x)[:,:,1]).applymap(conv)\n",
      "C:\\Users\\Aditya Pavadad\\AppData\\Local\\Temp\\ipykernel_30456\\756365652.py:3: FutureWarning: DataFrame.applymap has been deprecated. Use DataFrame.map instead.\n",
      "  df2 = pd.DataFrame(np.array(x)[:,:,2]).applymap(conv)\n"
     ]
    }
   ],
   "source": [
    "df0 = pd.DataFrame(np.array(x)[:,:,0]).applymap(conv)\n",
    "df1 = pd.DataFrame(np.array(x)[:,:,1]).applymap(conv)\n",
    "df2 = pd.DataFrame(np.array(x)[:,:,2]).applymap(conv)"
   ]
  },
  {
   "cell_type": "code",
   "execution_count": 5,
   "id": "8d17c5e6",
   "metadata": {},
   "outputs": [],
   "source": [
    "route = [[], [], []]\n",
    "\n",
    "route[0].append(df0[:3].sum(axis=1)[df0[:3].sum(axis=1) > 0].index[0])\n",
    "route[1].append(df1[:3].sum(axis=1)[df1[:3].sum(axis=1) > 0].index[0])\n",
    "route[2].append(df2[:3].sum(axis=1)[df2[:3].sum(axis=1) > 0].index[0])\n",
    "\n",
    "i = 0\n",
    "while True:\n",
    "    route[0].append(df0.iloc[route[0][i]][df0.iloc[route[0][i]] > 0].index[0])\n",
    "    i += 1\n",
    "    if route[0][i] == route[0][0]:\n",
    "        break\n",
    "        \n",
    "i = 0\n",
    "while True:\n",
    "    route[1].append(df1.iloc[route[1][i]][df1.iloc[route[1][i]] > 0].index[0])\n",
    "    i += 1\n",
    "    if route[1][i] == route[1][0]:\n",
    "        break\n",
    "        \n",
    "i = 0\n",
    "while True:\n",
    "    route[2].append(df2.iloc[route[2][i]][df2.iloc[route[2][i]] > 0].index[0])\n",
    "    i += 1\n",
    "    if route[2][i] == route[2][0]:\n",
    "        break"
   ]
  },
  {
   "cell_type": "code",
   "execution_count": 6,
   "id": "78b151a1",
   "metadata": {},
   "outputs": [
    {
     "data": {
      "text/plain": [
       "8"
      ]
     },
     "execution_count": 6,
     "metadata": {},
     "output_type": "execute_result"
    }
   ],
   "source": [
    "df0.iloc[route[0][0]][df0.iloc[route[0][0]] > 0].index[0]"
   ]
  },
  {
   "cell_type": "code",
   "execution_count": 7,
   "id": "165a96e9",
   "metadata": {},
   "outputs": [
    {
     "data": {
      "text/plain": [
       "[[2, 8, 5, 4, 3, 6, 9, 7, 2],\n",
       " [1, 10, 11, 13, 14, 12, 17, 1],\n",
       " [1, 19, 18, 20, 21, 16, 15, 1]]"
      ]
     },
     "execution_count": 7,
     "metadata": {},
     "output_type": "execute_result"
    }
   ],
   "source": [
    "route"
   ]
  },
  {
   "cell_type": "code",
   "execution_count": null,
   "id": "22a08a0f",
   "metadata": {},
   "outputs": [],
   "source": []
  },
  {
   "cell_type": "code",
   "execution_count": null,
   "id": "c586e965",
   "metadata": {},
   "outputs": [],
   "source": []
  },
  {
   "cell_type": "code",
   "execution_count": null,
   "id": "873cfd79",
   "metadata": {},
   "outputs": [],
   "source": []
  },
  {
   "cell_type": "code",
   "execution_count": null,
   "id": "2f6e3c77",
   "metadata": {},
   "outputs": [],
   "source": []
  },
  {
   "cell_type": "code",
   "execution_count": 11,
   "id": "7112151a",
   "metadata": {},
   "outputs": [
    {
     "data": {
      "text/plain": [
       "[0, 0, 0, 0, 0, 0, 0, 0, 0, 0]"
      ]
     },
     "execution_count": 11,
     "metadata": {},
     "output_type": "execute_result"
    }
   ],
   "source": [
    "orderofvisit"
   ]
  },
  {
   "cell_type": "code",
   "execution_count": 70,
   "id": "7252ab35",
   "metadata": {},
   "outputs": [],
   "source": [
    "route[0].append(df0[:3].sum(axis=1)[df0[:3].sum(axis=1) > 0].index[0])\n",
    "route[1].append(df1[:3].sum(axis=1)[df1[:3].sum(axis=1) > 0].index[0])\n",
    "route[2].append(df2[:3].sum(axis=1)[df2[:3].sum(axis=1) > 0].index[0])"
   ]
  },
  {
   "cell_type": "code",
   "execution_count": 79,
   "id": "feea9f9a",
   "metadata": {},
   "outputs": [],
   "source": [
    "i = 0\n",
    "while True:\n",
    "    route[0].append(df0.iloc[route[0][i]][df0.iloc[route[0][i]] > 0].index[0])\n",
    "    i += 1\n",
    "    if route[0][i] == route[0][0]:\n",
    "        break"
   ]
  },
  {
   "cell_type": "code",
   "execution_count": 29,
   "id": "4c73452e",
   "metadata": {},
   "outputs": [
    {
     "data": {
      "text/plain": [
       "[[<gurobi.Var *Awaiting Model Update*>,\n",
       "  <gurobi.Var *Awaiting Model Update*>,\n",
       "  <gurobi.Var *Awaiting Model Update*>],\n",
       " [<gurobi.Var *Awaiting Model Update*>,\n",
       "  <gurobi.Var *Awaiting Model Update*>,\n",
       "  <gurobi.Var *Awaiting Model Update*>],\n",
       " [<gurobi.Var *Awaiting Model Update*>,\n",
       "  <gurobi.Var *Awaiting Model Update*>,\n",
       "  <gurobi.Var *Awaiting Model Update*>],\n",
       " [<gurobi.Var *Awaiting Model Update*>,\n",
       "  <gurobi.Var *Awaiting Model Update*>,\n",
       "  <gurobi.Var *Awaiting Model Update*>],\n",
       " [<gurobi.Var *Awaiting Model Update*>,\n",
       "  <gurobi.Var *Awaiting Model Update*>,\n",
       "  <gurobi.Var *Awaiting Model Update*>],\n",
       " [<gurobi.Var *Awaiting Model Update*>,\n",
       "  <gurobi.Var *Awaiting Model Update*>,\n",
       "  <gurobi.Var *Awaiting Model Update*>],\n",
       " [<gurobi.Var *Awaiting Model Update*>,\n",
       "  <gurobi.Var *Awaiting Model Update*>,\n",
       "  <gurobi.Var *Awaiting Model Update*>],\n",
       " [<gurobi.Var *Awaiting Model Update*>,\n",
       "  <gurobi.Var *Awaiting Model Update*>,\n",
       "  <gurobi.Var *Awaiting Model Update*>],\n",
       " [<gurobi.Var *Awaiting Model Update*>,\n",
       "  <gurobi.Var *Awaiting Model Update*>,\n",
       "  <gurobi.Var *Awaiting Model Update*>],\n",
       " [<gurobi.Var *Awaiting Model Update*>,\n",
       "  <gurobi.Var *Awaiting Model Update*>,\n",
       "  <gurobi.Var *Awaiting Model Update*>],\n",
       " [<gurobi.Var *Awaiting Model Update*>,\n",
       "  <gurobi.Var *Awaiting Model Update*>,\n",
       "  <gurobi.Var *Awaiting Model Update*>],\n",
       " [<gurobi.Var *Awaiting Model Update*>,\n",
       "  <gurobi.Var *Awaiting Model Update*>,\n",
       "  <gurobi.Var *Awaiting Model Update*>],\n",
       " [<gurobi.Var *Awaiting Model Update*>,\n",
       "  <gurobi.Var *Awaiting Model Update*>,\n",
       "  <gurobi.Var *Awaiting Model Update*>],\n",
       " [<gurobi.Var *Awaiting Model Update*>,\n",
       "  <gurobi.Var *Awaiting Model Update*>,\n",
       "  <gurobi.Var *Awaiting Model Update*>],\n",
       " [<gurobi.Var *Awaiting Model Update*>,\n",
       "  <gurobi.Var *Awaiting Model Update*>,\n",
       "  <gurobi.Var *Awaiting Model Update*>],\n",
       " [<gurobi.Var *Awaiting Model Update*>,\n",
       "  <gurobi.Var *Awaiting Model Update*>,\n",
       "  <gurobi.Var *Awaiting Model Update*>],\n",
       " [<gurobi.Var *Awaiting Model Update*>,\n",
       "  <gurobi.Var *Awaiting Model Update*>,\n",
       "  <gurobi.Var *Awaiting Model Update*>],\n",
       " [<gurobi.Var *Awaiting Model Update*>,\n",
       "  <gurobi.Var *Awaiting Model Update*>,\n",
       "  <gurobi.Var *Awaiting Model Update*>],\n",
       " [<gurobi.Var *Awaiting Model Update*>,\n",
       "  <gurobi.Var *Awaiting Model Update*>,\n",
       "  <gurobi.Var *Awaiting Model Update*>],\n",
       " [<gurobi.Var *Awaiting Model Update*>,\n",
       "  <gurobi.Var *Awaiting Model Update*>,\n",
       "  <gurobi.Var *Awaiting Model Update*>],\n",
       " [<gurobi.Var *Awaiting Model Update*>,\n",
       "  <gurobi.Var *Awaiting Model Update*>,\n",
       "  <gurobi.Var *Awaiting Model Update*>],\n",
       " [<gurobi.Var *Awaiting Model Update*>,\n",
       "  <gurobi.Var *Awaiting Model Update*>,\n",
       "  <gurobi.Var *Awaiting Model Update*>]]"
      ]
     },
     "execution_count": 29,
     "metadata": {},
     "output_type": "execute_result"
    }
   ],
   "source": [
    "z"
   ]
  },
  {
   "cell_type": "code",
   "execution_count": null,
   "id": "a1c9cc91",
   "metadata": {},
   "outputs": [],
   "source": []
  },
  {
   "cell_type": "code",
   "execution_count": 68,
   "id": "9a7d9b65",
   "metadata": {},
   "outputs": [
    {
     "data": {
      "text/plain": [
       "0    False\n",
       "1     True\n",
       "2    False\n",
       "dtype: bool"
      ]
     },
     "execution_count": 68,
     "metadata": {},
     "output_type": "execute_result"
    }
   ],
   "source": [
    "df2[:3].sum(axis=1) > 0"
   ]
  }
 ],
 "metadata": {
  "kernelspec": {
   "display_name": "Python 3 (ipykernel)",
   "language": "python",
   "name": "python3"
  },
  "language_info": {
   "codemirror_mode": {
    "name": "ipython",
    "version": 3
   },
   "file_extension": ".py",
   "mimetype": "text/x-python",
   "name": "python",
   "nbconvert_exporter": "python",
   "pygments_lexer": "ipython3",
   "version": "3.11.5"
  }
 },
 "nbformat": 4,
 "nbformat_minor": 5
}
